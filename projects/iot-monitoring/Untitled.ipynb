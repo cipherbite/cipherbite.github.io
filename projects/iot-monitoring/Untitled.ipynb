{
 "cells": [
  {
   "cell_type": "code",
   "execution_count": 1,
   "id": "d601dec1-6f68-40a4-bb5b-9ce749c3e331",
   "metadata": {},
   "outputs": [
    {
     "name": "stdout",
     "output_type": "stream",
     "text": [
      "Requirement already satisfied: paho-mqtt in c:\\users\\david\\anaconda3\\lib\\site-packages (2.1.0)\n"
     ]
    },
    {
     "name": "stderr",
     "output_type": "stream",
     "text": [
      "\n",
      "[notice] A new release of pip is available: 25.0 -> 25.0.1\n",
      "[notice] To update, run: python.exe -m pip install --upgrade pip\n"
     ]
    }
   ],
   "source": [
    "!pip install paho-mqtt"
   ]
  },
  {
   "cell_type": "code",
   "execution_count": null,
   "id": "1b26ff1e-1548-41e5-b049-6b330239acf1",
   "metadata": {},
   "outputs": [
    {
     "name": "stdout",
     "output_type": "stream",
     "text": [
      "Starting subscriber... Press Ctrl+C to stop\n"
     ]
    },
    {
     "name": "stderr",
     "output_type": "stream",
     "text": [
      "C:\\Users\\david\\AppData\\Local\\Temp\\ipykernel_6748\\2613972034.py:12: DeprecationWarning: Callback API version 1 is deprecated, update to latest version\n",
      "  subscriber = mqtt.Client(client_id=\"subscriber1\")\n"
     ]
    }
   ],
   "source": [
    "import paho.mqtt.client as mqtt\n",
    "import json\n",
    "\n",
    "def on_message(client, userdata, msg):\n",
    "    try:\n",
    "        data = json.loads(msg.payload.decode())\n",
    "        print(f\"Received: {data}\")\n",
    "    except Exception as e:\n",
    "        print(f\"Error: {e}\")\n",
    "\n",
    "# Create new client instance with different ID\n",
    "subscriber = mqtt.Client(client_id=\"subscriber1\")\n",
    "subscriber.on_message = on_message\n",
    "\n",
    "# Connect and subscribe\n",
    "subscriber.connect(\"localhost\", 1883)\n",
    "subscriber.subscribe(\"sensor/data\")\n",
    "\n",
    "# Start loop - blocking version to ensure it keeps running\n",
    "print(\"Starting subscriber... Press Ctrl+C to stop\")\n",
    "subscriber.loop_forever()"
   ]
  },
  {
   "cell_type": "code",
   "execution_count": null,
   "id": "c0b32a61-64cf-4629-834e-675a3f4b78f2",
   "metadata": {},
   "outputs": [],
   "source": [
    "import paho.mqtt.client as mqtt\n",
    "import json\n",
    "\n",
    "def on_message(client, userdata, msg):\n",
    "    try:\n",
    "        data = json.loads(msg.payload.decode())\n",
    "        print(f\"Received: {data}\")\n",
    "    except Exception as e:\n",
    "        print(f\"Error: {e}\")\n",
    "\n",
    "# Create new client instance with different ID\n",
    "subscriber = mqtt.Client(client_id=\"subscriber1\")\n",
    "subscriber.on_message = on_message\n",
    "\n",
    "# Connect and subscribe\n",
    "subscriber.connect(\"localhost\", 1883)\n",
    "subscriber.subscribe(\"sensor/data\")\n",
    "\n",
    "# Start loop - blocking version to ensure it keeps running\n",
    "print(\"Starting subscriber... Press Ctrl+C to stop\")\n",
    "subscriber.loop_forever()"
   ]
  },
  {
   "cell_type": "code",
   "execution_count": null,
   "id": "618df90c-a9d4-4390-80c0-4ce3d1befdcd",
   "metadata": {},
   "outputs": [],
   "source": []
  }
 ],
 "metadata": {
  "kernelspec": {
   "display_name": "Python 3 (ipykernel)",
   "language": "python",
   "name": "python3"
  },
  "language_info": {
   "codemirror_mode": {
    "name": "ipython",
    "version": 3
   },
   "file_extension": ".py",
   "mimetype": "text/x-python",
   "name": "python",
   "nbconvert_exporter": "python",
   "pygments_lexer": "ipython3",
   "version": "3.12.4"
  }
 },
 "nbformat": 4,
 "nbformat_minor": 5
}
